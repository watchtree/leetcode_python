{
 "cells": [
  {
   "cell_type": "markdown",
   "metadata": {},
   "source": [
    "# 验证回文字符串"
   ]
  },
  {
   "cell_type": "markdown",
   "metadata": {},
   "source": [
    "给定一个字符串，验证它是否是回文串，只考虑字母和数字字符，可以忽略字母的大小写。\n",
    "\n",
    "说明：本题中，我们将空字符串定义为有效的回文串。\n",
    "\n",
    "示例 1:\n",
    "\n",
    "输入: \"A man, a plan, a canal: Panama\"\n",
    "输出: true\n",
    "\n",
    "示例 2:\n",
    "\n",
    "输入: \"race a car\"\n",
    "输出: false\n",
    "\n"
   ]
  },
  {
   "cell_type": "code",
   "execution_count": 5,
   "metadata": {},
   "outputs": [
    {
     "name": "stdout",
     "output_type": "stream",
     "text": [
      "30\n"
     ]
    }
   ],
   "source": [
    "s = \"A man, a plan, a canal: Panama\"\n",
    "print(len(s))"
   ]
  },
  {
   "cell_type": "code",
   "execution_count": 2,
   "metadata": {},
   "outputs": [],
   "source": [
    "def isPalindrome(s):\n",
    "    if not s:\n",
    "        return True\n",
    "    def f(i):\n",
    "        q = i.isalpha()\n",
    "        if 48<= ord(i)<= 57:\n",
    "            p=1\n",
    "        else:p=0\n",
    "        return q or p\n",
    "    l = list((filter(f,s)))\n",
    "    s = ''.join(l)\n",
    "    s = s.upper()\n",
    "    return s == s[::-1]"
   ]
  },
  {
   "cell_type": "code",
   "execution_count": 3,
   "metadata": {},
   "outputs": [
    {
     "data": {
      "text/plain": [
       "True"
      ]
     },
     "execution_count": 3,
     "metadata": {},
     "output_type": "execute_result"
    }
   ],
   "source": [
    "isPalindrome(s)"
   ]
  },
  {
   "cell_type": "markdown",
   "metadata": {},
   "source": [
    "对回文串的检测 首先对空字符进行判定"
   ]
  },
  {
   "cell_type": "markdown",
   "metadata": {},
   "source": [
    "filter() 函数用于过滤序列，过滤掉不符合条件的元素，返回由符合条件元素组成的新列表。\n",
    "\n",
    "该接收两个参数，第一个为函数，第二个为序列，序列的每个元素作为参数传递给函数进行判，然后返回 True 或 False，最后将返回 True 的元素放到新列表中。"
   ]
  },
  {
   "cell_type": "markdown",
   "metadata": {},
   "source": [
    "以下是 filter() 方法的语法:\n",
    "\n",
    "filter(function, iterable)\n",
    "\n",
    "参数\n",
    "\n",
    "    function -- 判断函数。\n",
    "    iterable -- 可迭代对象。\n"
   ]
  },
  {
   "cell_type": "markdown",
   "metadata": {},
   "source": [
    "Python isalpha() 方法检测字符串是否只由字母组成。\n",
    "语法\n",
    "\n",
    "isalpha()方法语法：\n",
    "\n",
    "str.isalpha()"
   ]
  },
  {
   "cell_type": "markdown",
   "metadata": {},
   "source": [
    "ord() 函数,以一个字符（长度为1的字符串）作为参数，返回对应的 ASCII 数值"
   ]
  },
  {
   "cell_type": "markdown",
   "metadata": {},
   "source": [
    "设定过滤函数filter() 的判断函数f(i)是对输入的字符进行判断\n",
    "首先如果输入的是字母,返回1,其二判断输入数字同样返回1\n",
    "过滤出小写字母和数字以外的字符,生成一个新的list\n",
    "将list组合 ''.join(l)\n",
    "形成新的字符串,如果反向成立即为通过"
   ]
  },
  {
   "cell_type": "code",
   "execution_count": 8,
   "metadata": {},
   "outputs": [],
   "source": [
    "def isPalindrome(s):  \n",
    "    import re\n",
    "    s = re.sub('[^a-z0-9]','',s.lower())\n",
    "    return s == s[::-1]"
   ]
  },
  {
   "cell_type": "code",
   "execution_count": 9,
   "metadata": {},
   "outputs": [
    {
     "data": {
      "text/plain": [
       "True"
      ]
     },
     "execution_count": 9,
     "metadata": {},
     "output_type": "execute_result"
    }
   ],
   "source": [
    "isPalindrome(s)"
   ]
  },
  {
   "cell_type": "markdown",
   "metadata": {},
   "source": [
    "re.sub()\n",
    "\n",
    "要用sub()，记住要import re哦！\n",
    "\n",
    "re.sub()有5个函数，三个必选参数pattern,repl,string；两个可选参数count,flags\n",
    "\n",
    "re.sub(pattern,repl,string,count,flags)\n",
    "\n",
    "pattern:表示正则表达式中的模式字符串；\n",
    "\n",
    "repl:被替换的字符串（既可以是字符串，也可以是函数）；\n",
    "\n",
    "string:要被处理的，要被替换的字符串；\n",
    "\n",
    "count:匹配的次数"
   ]
  },
  {
   "cell_type": "code",
   "execution_count": 10,
   "metadata": {},
   "outputs": [],
   "source": [
    "def isPalindrome(s): \n",
    "    s = list(filter(str.isalnum, s.lower()))\n",
    "    return s == s[::-1]"
   ]
  },
  {
   "cell_type": "code",
   "execution_count": 11,
   "metadata": {},
   "outputs": [
    {
     "data": {
      "text/plain": [
       "True"
      ]
     },
     "execution_count": 11,
     "metadata": {},
     "output_type": "execute_result"
    }
   ],
   "source": [
    "isPalindrome(s)"
   ]
  },
  {
   "cell_type": "markdown",
   "metadata": {},
   "source": [
    "Python isalnum() 方法检测字符串是否由字母和数字组成。"
   ]
  },
  {
   "cell_type": "code",
   "execution_count": null,
   "metadata": {},
   "outputs": [],
   "source": []
  }
 ],
 "metadata": {
  "kernelspec": {
   "display_name": "Python 3",
   "language": "python",
   "name": "python3"
  },
  "language_info": {
   "codemirror_mode": {
    "name": "ipython",
    "version": 3
   },
   "file_extension": ".py",
   "mimetype": "text/x-python",
   "name": "python",
   "nbconvert_exporter": "python",
   "pygments_lexer": "ipython3",
   "version": "3.6.5"
  }
 },
 "nbformat": 4,
 "nbformat_minor": 2
}
