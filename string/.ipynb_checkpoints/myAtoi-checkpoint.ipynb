{
 "cells": [
  {
   "cell_type": "markdown",
   "metadata": {},
   "source": [
    "# 字符串转整数（atoi） "
   ]
  },
  {
   "cell_type": "markdown",
   "metadata": {},
   "source": [
    "实现 atoi，将字符串转为整数。\n",
    "\n",
    "在找到第一个非空字符之前，需要移除掉字符串中的空格字符。如果第一个非空字符是正号或负号，选取该符号，并将其与后面尽可能多的连续的数字组合起来，这部分字符即为整数的值。如果第一个非空字符是数字，则直接将其与之后连续的数字字符组合起来，形成整数。\n",
    "\n",
    "字符串可以在形成整数的字符后面包括多余的字符，这些字符可以被忽略，它们对于函数没有影响。\n",
    "\n",
    "当字符串中的第一个非空字符序列不是个有效的整数；或字符串为空；或字符串仅包含空白字符时，则不进行转换。\n",
    "\n",
    "若函数不能执行有效的转换，返回 0。\n",
    "\n",
    "说明：\n",
    "\n",
    "假设我们的环境只能存储 32 位有符号整数，其数值范围是 [−231,  231 − 1]。如果数值超过可表示的范围，则返回  INT_MAX (231 − 1) 或 INT_MIN (−231) 。\n",
    "\n",
    "示例 1:\n",
    "\n",
    "输入: \"42\"\n",
    "输出: 42\n",
    "\n",
    "示例 2:\n",
    "\n",
    "输入: \"   -42\"\n",
    "输出: -42\n",
    "解释: 第一个非空白字符为 '-', 它是一个负号。\n",
    "     我们尽可能将负号与后面所有连续出现的数字组合起来，最后得到 -42 。\n",
    "\n",
    "示例 3:\n",
    "\n",
    "输入: \"4193 with words\"\n",
    "输出: 4193\n",
    "解释: 转换截止于数字 '3' ，因为它的下一个字符不为数字。\n",
    "\n",
    "示例 4:\n",
    "\n",
    "输入: \"words and 987\"\n",
    "输出: 0\n",
    "解释: 第一个非空字符是 'w', 但它不是数字或正、负号。\n",
    "     因此无法执行有效的转换。\n",
    "\n",
    "示例 5:\n",
    "\n",
    "输入: \"-91283472332\"\n",
    "输出: -2147483648\n",
    "解释: 数字 \"-91283472332\" 超过 32 位有符号整数范围。 \n",
    "     因此返回 INT_MIN (−231) 。\n",
    "\n"
   ]
  },
  {
   "cell_type": "code",
   "execution_count": 20,
   "metadata": {},
   "outputs": [],
   "source": [
    "s = \"   -42\""
   ]
  },
  {
   "cell_type": "code",
   "execution_count": 39,
   "metadata": {},
   "outputs": [],
   "source": [
    "def myAtoi(s):\n",
    "    \n",
    "    L = len(s)\n",
    "    list0 =[]\n",
    "    for i in range(L):\n",
    "        if s[i] != ' ':\n",
    "            if (s[i]).isdigit or s[i] ==\"+\" or s[i]==\"-\":\n",
    "                list0.append(s(i))\n",
    "            else:\n",
    "                if list0:\n",
    "                    return 0\n",
    "                else:\n",
    "                    num = ''.join(list0)\n",
    "                    num = int(num)\n",
    "                    break\n",
    "        num = ''.join(list0)\n",
    "        num = int(num)\n",
    "    if num > 2**31:\n",
    "        num = int(2**31)\n",
    "    if num < -2**31:\n",
    "        num = int(-2**31)\n",
    "        \n",
    "    return num"
   ]
  },
  {
   "cell_type": "code",
   "execution_count": 44,
   "metadata": {},
   "outputs": [
    {
     "data": {
      "text/plain": [
       "-42"
      ]
     },
     "execution_count": 44,
     "metadata": {},
     "output_type": "execute_result"
    }
   ],
   "source": [
    "myAtoi(s)"
   ]
  },
  {
   "cell_type": "code",
   "execution_count": 27,
   "metadata": {},
   "outputs": [
    {
     "data": {
      "text/plain": [
       "6"
      ]
     },
     "execution_count": 27,
     "metadata": {},
     "output_type": "execute_result"
    }
   ],
   "source": [
    "len(s)"
   ]
  },
  {
   "cell_type": "code",
   "execution_count": 43,
   "metadata": {},
   "outputs": [],
   "source": [
    "    class Solution:\n",
    "        def myAtoi(self, str):\n",
    "            \"\"\"\n",
    "            :type str: str\n",
    "            :rtype: int\n",
    "            \"\"\"\n",
    "            numset={'0','1','2','3','4','5','6','7','8','9'}\n",
    "            op={\"-\",\"+\"}\n",
    "            if str ==\"\" or str.isspace():\n",
    "                return 0 \n",
    "            ms = str.lstrip()\n",
    "            low = 0\n",
    "            res = 0\n",
    "            while low < len(ms) and ms[low] in op:#判断符号位是否正确\n",
    "                low += 1\n",
    "            if low > 1 or low == len(ms): return 0 #只有符号没有数字，或者符号多于一个\n",
    "            \n",
    "            while low < len(ms):\n",
    "                if ms[low] in numset:\n",
    "                    res = res * 10 + int(ms[low]) \n",
    "                else:\n",
    "                    break\n",
    "                low += 1\n",
    "            \n",
    "            if ms[0]== \"-\":\n",
    "                return max(-res,-0x80000000)\n",
    "            return min(res,0x7FFFFFFF)"
   ]
  },
  {
   "cell_type": "markdown",
   "metadata": {},
   "source": [
    "用下标的方式进行判断 \n",
    "Python lstrip() 方法用于截掉字符串左边的空格或指定字符"
   ]
  },
  {
   "cell_type": "markdown",
   "metadata": {},
   "source": [
    "Python isspace() 方法检测字符串是否只由空白字符组成"
   ]
  },
  {
   "cell_type": "code",
   "execution_count": 45,
   "metadata": {},
   "outputs": [],
   "source": [
    "class Solution:\n",
    "    def myAtoi(self, str):\n",
    "        numset = {'1','2','3','4','5','6','7','8','9','0'}\n",
    "        op = {\"+\",\"-\"}\n",
    "        \n",
    "        if str == \"\" or str.isspace():\n",
    "            return 0\n",
    "        ms = str.lstrip()\n",
    "        low = 0\n",
    "        res= 0\n",
    "        while low < len(ms) and ms[low] in op:\n",
    "            low += 1\n",
    "        if low > 1 or low == len(ms):\n",
    "            return 0\n",
    "        \n",
    "        while low < len(ms):\n",
    "            if ms[low] in numset:\n",
    "                 res = res * 10 + int(ms[low]) \n",
    "            else:\n",
    "                break\n",
    "            low += 1\n",
    "        if ms[0] == \"-\":\n",
    "            return max(-res,-2**31)\n",
    "        return min(res,2**31)"
   ]
  },
  {
   "cell_type": "code",
   "execution_count": 47,
   "metadata": {},
   "outputs": [
    {
     "data": {
      "text/plain": [
       "42"
      ]
     },
     "execution_count": 47,
     "metadata": {},
     "output_type": "execute_result"
    }
   ],
   "source": [
    "myAtoi(\"42\")"
   ]
  },
  {
   "cell_type": "code",
   "execution_count": 49,
   "metadata": {},
   "outputs": [
    {
     "data": {
      "text/plain": [
       "2147483647"
      ]
     },
     "execution_count": 49,
     "metadata": {},
     "output_type": "execute_result"
    }
   ],
   "source": [
    "0x7FFFFFFF"
   ]
  },
  {
   "cell_type": "code",
   "execution_count": 50,
   "metadata": {},
   "outputs": [
    {
     "data": {
      "text/plain": [
       "-2147483648"
      ]
     },
     "execution_count": 50,
     "metadata": {},
     "output_type": "execute_result"
    }
   ],
   "source": [
    "-0x80000000"
   ]
  },
  {
   "cell_type": "code",
   "execution_count": 51,
   "metadata": {},
   "outputs": [
    {
     "data": {
      "text/plain": [
       "-2147483648"
      ]
     },
     "execution_count": 51,
     "metadata": {},
     "output_type": "execute_result"
    }
   ],
   "source": [
    "-2**31"
   ]
  },
  {
   "cell_type": "markdown",
   "metadata": {},
   "source": [
    "# 正则化方法"
   ]
  },
  {
   "cell_type": "markdown",
   "metadata": {},
   "source": [
    "Python 正则表达式\n",
    "\n",
    "正则表达式是一个特殊的字符序列，它能帮助你方便的检查一个字符串是否与某种模式匹配。\n",
    "\n",
    "Python 自1.5版本起增加了re 模块，它提供 Perl 风格的正则表达式模式。\n",
    "\n",
    "re 模块使 Python 语言拥有全部的正则表达式功能。\n",
    "\n",
    "compile 函数根据一个模式字符串和可选的标志参数生成一个正则表达式对象。该对象拥有一系列方法用于正则表达式匹配和替换。\n",
    "\n",
    "re 模块也提供了与这些方法功能完全一致的函数，这些函数使用一个模式字符串做为它们的第一个参数。"
   ]
  },
  {
   "cell_type": "markdown",
   "metadata": {},
   "source": [
    "findall\n",
    "\n",
    "在字符串中找到正则表达式所匹配的所有子串，并返回一个列表，如果没有找到匹配的，则返回空列表。\n",
    "\n",
    "注意： match 和 search 是匹配一次 findall 匹配所有。\n",
    "\n",
    "语法格式为：\n",
    "\n",
    "findall(string[, pos[, endpos]])\n",
    "\n",
    "参数：\n",
    "\n",
    "    string : 待匹配的字符串。\n",
    "    pos : 可选参数，指定字符串的起始位置，默认为 0。\n",
    "    endpos : 可选参数，指定字符串的结束位置，默认为字符串的长度。"
   ]
  },
  {
   "cell_type": "markdown",
   "metadata": {},
   "source": [
    "Python strip() 方法用于移除字符串头尾指定的字符（默认为空格或换行符）或字符序列"
   ]
  },
  {
   "cell_type": "code",
   "execution_count": 52,
   "metadata": {},
   "outputs": [],
   "source": [
    "class Solution:\n",
    "    def myAtoi(self,str):\n",
    "        res = ''\n",
    "        tmp = re.findall('^[-+]?\\d+', str, strip())\n",
    "        if tmp:\n",
    "            ms = tmp[0]\n",
    "            if ms[0] == \"-\" or ms[0] == \"+\":\n",
    "                res = ms[1:]\n",
    "            else:\n",
    "                res = ms\n",
    "            res = int(res)\n",
    "            if ms[0]== \"-\":\n",
    "                return max(-res,-0x80000000)\n",
    "            return min(res,0x7FFFFFFF)\n",
    "        else:\n",
    "            return 0"
   ]
  },
  {
   "cell_type": "code",
   "execution_count": 58,
   "metadata": {},
   "outputs": [
    {
     "name": "stdout",
     "output_type": "stream",
     "text": [
      "['-42']\n"
     ]
    }
   ],
   "source": [
    "import re\n",
    "tmp = re.findall('^[-+]?\\d+', str.strip())\n",
    "print(tmp)"
   ]
  },
  {
   "cell_type": "markdown",
   "metadata": {},
   "source": [
    "正则表达式语法http://www.runoob.com/regexp/regexp-syntax.html"
   ]
  },
  {
   "cell_type": "code",
   "execution_count": null,
   "metadata": {},
   "outputs": [],
   "source": []
  }
 ],
 "metadata": {
  "kernelspec": {
   "display_name": "Python 3",
   "language": "python",
   "name": "python3"
  },
  "language_info": {
   "codemirror_mode": {
    "name": "ipython",
    "version": 3
   },
   "file_extension": ".py",
   "mimetype": "text/x-python",
   "name": "python",
   "nbconvert_exporter": "python",
   "pygments_lexer": "ipython3",
   "version": "3.6.5"
  }
 },
 "nbformat": 4,
 "nbformat_minor": 2
}
